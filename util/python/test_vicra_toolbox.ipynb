{
 "cells": [
  {
   "cell_type": "code",
   "execution_count": 1,
   "metadata": {},
   "outputs": [],
   "source": [
    "import vicra_toolbox\n",
    "import numpy as np\n",
    "import csv\n",
    "\n",
    "np.set_printoptions(suppress=True)"
   ]
  },
  {
   "cell_type": "markdown",
   "metadata": {},
   "source": [
    "# RotTransMatrix_6Params"
   ]
  },
  {
   "cell_type": "code",
   "execution_count": 2,
   "metadata": {},
   "outputs": [
    {
     "name": "stdout",
     "output_type": "stream",
     "text": [
      "[ 0.006883   12.938414    5.866369   -2.41960392  0.92233064  5.9836494 ]\n"
     ]
    }
   ],
   "source": [
    "# METHOD 1\n",
    "#    One liner: Rotation/Translation to Decomposed 6 elements\n",
    "\n",
    "#    INPUT    : 12 Vicra elements (Vicra position 2-13)\n",
    "#    Order    : R11,R12,R13,T14,R21,R22,R23,T24,R31,R32,R33,T34\n",
    "\n",
    "#    OUTPUT   : Decomposed 6 parameters \n",
    "#    Order    : Tx,Ty,Tz,Rx,Ry,Rz\n",
    "\n",
    "Input_elements = np.array([0.994423 , -0.104231, 0.016097 ,  0.006883, \\\n",
    "                           0.103476 , 0.993736 , 0.042212 , 12.938414, \\\n",
    "                           -0.020396, -0.040311, 0.998979 , 5.866369 ])\n",
    "\n",
    "Output = vicra_toolbox.RotTransMatrix_6Params(Input_elements,1)\n",
    "print(Output)"
   ]
  },
  {
   "cell_type": "code",
   "execution_count": 3,
   "metadata": {},
   "outputs": [
    {
     "name": "stdout",
     "output_type": "stream",
     "text": [
      "[ 0.99442282 -0.10423114  0.01609701  0.006883    0.10347584  0.99373583\n",
      "  0.04221203 12.938414   -0.02039599 -0.04031096  0.99897899  5.866369  ]\n"
     ]
    }
   ],
   "source": [
    "# METHOD 2\n",
    "#    One liner: Decomposed 6 elements to Rotation/Translation\n",
    "\n",
    "#    INPUT    : Decomposed 6 parameters \n",
    "#    Order    : Tx,Ty,Tz,Rx,Ry,Rz\n",
    "\n",
    "#    OUTPUT   : 12 Vicra elements (Vicra position 2-13) \n",
    "#    Order    : R11,R12,R13,T14,R21,R22,R23,T24,R31,R32,R33,T34\n",
    "\n",
    "Input_elements2 = np.array([0.006883, 12.938414, 5.866369, -2.41960392, 0.92233064, 5.9836494])\n",
    "\n",
    "Output2 = vicra_toolbox.RotTransMatrix_6Params(Input_elements2,2)\n",
    "print(Output2)"
   ]
  },
  {
   "cell_type": "code",
   "execution_count": 4,
   "metadata": {},
   "outputs": [
    {
     "name": "stdout",
     "output_type": "stream",
     "text": [
      "Input method is not recognized in this function. Please choose 1 or 2.\n",
      "1 = Rotation/Translation to 6 elements\n",
      "2 = 6 elements to Rotation/Translation\n"
     ]
    }
   ],
   "source": [
    "# METHOD 3\n",
    "\n",
    "Output2 = vicra_toolbox.RotTransMatrix_6Params(Input_elements2,3)"
   ]
  },
  {
   "cell_type": "markdown",
   "metadata": {},
   "source": [
    "# Relative_motion_A_to_B"
   ]
  },
  {
   "cell_type": "code",
   "execution_count": 5,
   "metadata": {},
   "outputs": [
    {
     "name": "stdout",
     "output_type": "stream",
     "text": [
      "[ 0.          0.99999975 -0.00032784 -0.00060372  0.00736467  0.00032465\n",
      "  0.99998897 -0.004669    0.16730146  0.00060544  0.00466861  0.99998941\n",
      "  0.39746919  1.        ]\n"
     ]
    }
   ],
   "source": [
    "#   ** Input **\n",
    "#   Frame002 is your new REFERENCE  --> input img_vc1 (14 elements)\n",
    "#   Frame006 is your new MOVE FRAME --> input img_vc2 (14 elements)\n",
    "#   Order : Time,R11,R12,R13,T14,R21,R22,R23,T24,R31,R32,R33,T34,uncertainty\n",
    "\n",
    "#   ** Output **\n",
    "#   One line VC format (14 elements) - relative motion from frame B to frame A\n",
    "#   Order : Time,R11,R12,R13,T14,R21,R22,R23,T24,R31,R32,R33,T34,uncertainty\n",
    "\n",
    "# Example:\n",
    "# R : reference gate;\n",
    "# A : moving gate1;\n",
    "# B : moving gate2;\n",
    "\n",
    "# R = img_vc1 * A;\n",
    "# R = img_vc2 * B;\n",
    "# => A = inv(img_vc1) * img_vc2 * B\n",
    "\n",
    "# Output: output_matr = inv(img_vc1) * img_vc2\n",
    "\n",
    "VC1 = './test_data/test_vc1.vc'\n",
    "VC2 = './test_data/test_vc2.vc'\n",
    "\n",
    "# read vicra\n",
    "csvFile1 = open(VC1, \"r\")\n",
    "reader1 = csv.reader(csvFile1)\n",
    "for item in reader1:\n",
    "    img_vc1 = np.array(item)\n",
    "csvFile1.close()\n",
    "\n",
    "csvFile2 = open(VC2, \"r\")\n",
    "reader2 = csv.reader(csvFile2)\n",
    "for item in reader2:\n",
    "    img_vc2 = np.array(item)\n",
    "csvFile2.close()\n",
    "    \n",
    "output_matr = vicra_toolbox.Relative_motion_A_to_B(img_vc1,img_vc2)\n",
    "print(output_matr)"
   ]
  },
  {
   "cell_type": "markdown",
   "metadata": {},
   "source": [
    "* MATLAB output \\\n",
    "output_matr =\n",
    "\n",
    "         0    1.0000   -0.0003   -0.0006    0.0074    0.0003    1.0000   -0.0047    0.1673    0.0006    0.0047    1.0000    0.3975    1.0000"
   ]
  },
  {
   "cell_type": "markdown",
   "metadata": {},
   "source": [
    "# DL_HMC_concat_VC"
   ]
  },
  {
   "cell_type": "code",
   "execution_count": 6,
   "metadata": {},
   "outputs": [
    {
     "name": "stdout",
     "output_type": "stream",
     "text": [
      "[  0.           0.9937216    0.10049832   0.04916107   4.5508156\n",
      "  -0.10308617   0.99324448   0.05327427   1.04686592  -0.04347448\n",
      "  -0.05800667   0.99736863 -11.87900005   1.        ]\n",
      "[  4.5508156    1.04686592 -11.87900005  -3.05751107   2.81784265\n",
      "  -5.77489102]\n"
     ]
    }
   ],
   "source": [
    "#   ** Input **\n",
    "#   img_vc1  : 1 line of VC, 14 elements\n",
    "#   img_vc2  : 1 line of VC, 14 elements\n",
    "#   Order    : Time,R11,R12,R13,T14,R21,R22,R23,T24,R31,R32,R33,T34,uncertainty\n",
    "\n",
    "#   ** Output **\n",
    "#   MOLAR_VC_matrix_full : resulting transformation matrix (1 line of VC, 14 elements)\n",
    "#   Order                : Time,R11,R12,R13,T14,R21,R22,R23,T24,R31,R32,R33,T34,uncertainty\n",
    "\n",
    "#   VC_6_params          : resulting 6 parameters (translation and rotation xyz)\n",
    "#   Order                : Tx,Ty,Tz,Rx,Ry,Rz\n",
    "\n",
    "# Example:\n",
    "# R : reference gate;\n",
    "# A : moving gate1;\n",
    "# B : moving gate2;\n",
    "\n",
    "# R = img_vc1 * A;\n",
    "# A = img_vc2 * B;\n",
    "# => R = img_vc1 * img_vc2 * B\n",
    "\n",
    "# Output: MOLAR_VC_matrix_full = img_vc1 * img_vc2\n",
    "\n",
    "VC1 = './test_data/test_vc1.vc'\n",
    "VC2 = './test_data/test_vc2.vc'\n",
    "\n",
    "# read vicra\n",
    "csvFile1 = open(VC1, \"r\")\n",
    "reader1 = csv.reader(csvFile1)\n",
    "for item in reader1:\n",
    "    img_vc1 = np.array(item)\n",
    "csvFile1.close()\n",
    "\n",
    "csvFile2 = open(VC2, \"r\")\n",
    "reader2 = csv.reader(csvFile2)\n",
    "for item in reader2:\n",
    "    img_vc2 = np.array(item)\n",
    "csvFile2.close()\n",
    "\n",
    "MOLAR_VC_matrix_full, decomposed_transMatrix = vicra_toolbox.DL_HMC_concat_VC(img_vc1, img_vc2)\n",
    "print(MOLAR_VC_matrix_full)\n",
    "print(decomposed_transMatrix)"
   ]
  },
  {
   "cell_type": "markdown",
   "metadata": {},
   "source": [
    "* MATLAB output \n",
    "\n",
    "    MOLAR_VC_matrix_full =\n",
    "\n",
    "    0    0.9937    0.1005    0.0492    4.5508   -0.1031    0.9932    0.0533    1.0469   -0.0435   -0.0580    0.9974  -11.8790    1.0000\n",
    "    \n",
    "    VC_6_params =\n",
    "\n",
    "    4.5508    1.0469  -11.8790   -3.0575    2.8179   -5.7749"
   ]
  },
  {
   "cell_type": "code",
   "execution_count": null,
   "metadata": {},
   "outputs": [],
   "source": []
  }
 ],
 "metadata": {
  "kernelspec": {
   "display_name": "monai",
   "language": "python",
   "name": "monai"
  },
  "language_info": {
   "codemirror_mode": {
    "name": "ipython",
    "version": 3
   },
   "file_extension": ".py",
   "mimetype": "text/x-python",
   "name": "python",
   "nbconvert_exporter": "python",
   "pygments_lexer": "ipython3",
   "version": "3.8.3"
  }
 },
 "nbformat": 4,
 "nbformat_minor": 4
}
